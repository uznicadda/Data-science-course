{
 "cells": [
  {
   "cell_type": "markdown",
   "metadata": {},
   "source": [
    "Необхідні бібліотеки: streamlit, pandas, matplotlib, seaborn"
   ]
  },
  {
   "cell_type": "code",
   "execution_count": null,
   "metadata": {},
   "outputs": [
    {
     "name": "stdout",
     "output_type": "stream",
     "text": [
      "Collecting matplotlib\n",
      "  Downloading matplotlib-3.10.1-cp313-cp313-win_amd64.whl.metadata (11 kB)\n",
      "Collecting contourpy>=1.0.1 (from matplotlib)\n",
      "  Downloading contourpy-1.3.1-cp313-cp313-win_amd64.whl.metadata (5.4 kB)\n",
      "Collecting cycler>=0.10 (from matplotlib)\n",
      "  Downloading cycler-0.12.1-py3-none-any.whl.metadata (3.8 kB)\n",
      "Collecting fonttools>=4.22.0 (from matplotlib)\n",
      "  Downloading fonttools-4.56.0-cp313-cp313-win_amd64.whl.metadata (103 kB)\n",
      "Collecting kiwisolver>=1.3.1 (from matplotlib)\n",
      "  Downloading kiwisolver-1.4.8-cp313-cp313-win_amd64.whl.metadata (6.3 kB)\n",
      "Requirement already satisfied: numpy>=1.23 in c:\\users\\andre\\appdata\\local\\programs\\python\\python313\\lib\\site-packages (from matplotlib) (2.2.3)\n",
      "Requirement already satisfied: packaging>=20.0 in c:\\users\\andre\\appdata\\roaming\\python\\python313\\site-packages (from matplotlib) (24.2)\n",
      "Requirement already satisfied: pillow>=8 in c:\\users\\andre\\appdata\\local\\programs\\python\\python313\\lib\\site-packages (from matplotlib) (11.1.0)\n",
      "Collecting pyparsing>=2.3.1 (from matplotlib)\n",
      "  Downloading pyparsing-3.2.1-py3-none-any.whl.metadata (5.0 kB)\n",
      "Requirement already satisfied: python-dateutil>=2.7 in c:\\users\\andre\\appdata\\roaming\\python\\python313\\site-packages (from matplotlib) (2.9.0.post0)\n",
      "Requirement already satisfied: six>=1.5 in c:\\users\\andre\\appdata\\roaming\\python\\python313\\site-packages (from python-dateutil>=2.7->matplotlib) (1.17.0)\n",
      "Downloading matplotlib-3.10.1-cp313-cp313-win_amd64.whl (8.1 MB)\n",
      "   ---------------------------------------- 0.0/8.1 MB ? eta -:--:--\n",
      "   ----- ---------------------------------- 1.0/8.1 MB 7.8 MB/s eta 0:00:01\n",
      "   --------- ------------------------------ 1.8/8.1 MB 6.6 MB/s eta 0:00:01\n",
      "   -------------- ------------------------- 2.9/8.1 MB 4.6 MB/s eta 0:00:02\n",
      "   -------------------- ------------------- 4.2/8.1 MB 5.3 MB/s eta 0:00:01\n",
      "   --------------------------- ------------ 5.5/8.1 MB 5.3 MB/s eta 0:00:01\n",
      "   ------------------------------------ --- 7.3/8.1 MB 6.0 MB/s eta 0:00:01\n",
      "   ---------------------------------------- 8.1/8.1 MB 6.0 MB/s eta 0:00:00\n",
      "Downloading contourpy-1.3.1-cp313-cp313-win_amd64.whl (220 kB)\n",
      "Downloading cycler-0.12.1-py3-none-any.whl (8.3 kB)\n",
      "Downloading fonttools-4.56.0-cp313-cp313-win_amd64.whl (2.2 MB)\n",
      "   ---------------------------------------- 0.0/2.2 MB ? eta -:--:--\n",
      "   ----------------------- ---------------- 1.3/2.2 MB 7.8 MB/s eta 0:00:01\n",
      "   ---------------------------------------- 2.2/2.2 MB 6.0 MB/s eta 0:00:00\n",
      "Downloading kiwisolver-1.4.8-cp313-cp313-win_amd64.whl (71 kB)\n",
      "Downloading pyparsing-3.2.1-py3-none-any.whl (107 kB)\n",
      "Installing collected packages: pyparsing, kiwisolver, fonttools, cycler, contourpy, matplotlib\n",
      "Successfully installed contourpy-1.3.1 cycler-0.12.1 fonttools-4.56.0 kiwisolver-1.4.8 matplotlib-3.10.1 pyparsing-3.2.1\n"
     ]
    },
    {
     "name": "stderr",
     "output_type": "stream",
     "text": [
      "\n",
      "[notice] A new release of pip is available: 24.3.1 -> 25.0.1\n",
      "[notice] To update, run: python.exe -m pip install --upgrade pip\n"
     ]
    },
    {
     "name": "stdout",
     "output_type": "stream",
     "text": [
      "Collecting seaborn\n",
      "  Downloading seaborn-0.13.2-py3-none-any.whl.metadata (5.4 kB)\n",
      "Requirement already satisfied: numpy!=1.24.0,>=1.20 in c:\\users\\andre\\appdata\\local\\programs\\python\\python313\\lib\\site-packages (from seaborn) (2.2.3)\n",
      "Requirement already satisfied: pandas>=1.2 in c:\\users\\andre\\appdata\\local\\programs\\python\\python313\\lib\\site-packages (from seaborn) (2.2.3)\n",
      "Requirement already satisfied: matplotlib!=3.6.1,>=3.4 in c:\\users\\andre\\appdata\\local\\programs\\python\\python313\\lib\\site-packages (from seaborn) (3.10.1)\n",
      "Requirement already satisfied: contourpy>=1.0.1 in c:\\users\\andre\\appdata\\local\\programs\\python\\python313\\lib\\site-packages (from matplotlib!=3.6.1,>=3.4->seaborn) (1.3.1)\n",
      "Requirement already satisfied: cycler>=0.10 in c:\\users\\andre\\appdata\\local\\programs\\python\\python313\\lib\\site-packages (from matplotlib!=3.6.1,>=3.4->seaborn) (0.12.1)\n",
      "Requirement already satisfied: fonttools>=4.22.0 in c:\\users\\andre\\appdata\\local\\programs\\python\\python313\\lib\\site-packages (from matplotlib!=3.6.1,>=3.4->seaborn) (4.56.0)\n",
      "Requirement already satisfied: kiwisolver>=1.3.1 in c:\\users\\andre\\appdata\\local\\programs\\python\\python313\\lib\\site-packages (from matplotlib!=3.6.1,>=3.4->seaborn) (1.4.8)\n",
      "Requirement already satisfied: packaging>=20.0 in c:\\users\\andre\\appdata\\roaming\\python\\python313\\site-packages (from matplotlib!=3.6.1,>=3.4->seaborn) (24.2)\n",
      "Requirement already satisfied: pillow>=8 in c:\\users\\andre\\appdata\\local\\programs\\python\\python313\\lib\\site-packages (from matplotlib!=3.6.1,>=3.4->seaborn) (11.1.0)\n",
      "Requirement already satisfied: pyparsing>=2.3.1 in c:\\users\\andre\\appdata\\local\\programs\\python\\python313\\lib\\site-packages (from matplotlib!=3.6.1,>=3.4->seaborn) (3.2.1)\n",
      "Requirement already satisfied: python-dateutil>=2.7 in c:\\users\\andre\\appdata\\roaming\\python\\python313\\site-packages (from matplotlib!=3.6.1,>=3.4->seaborn) (2.9.0.post0)\n",
      "Requirement already satisfied: pytz>=2020.1 in c:\\users\\andre\\appdata\\local\\programs\\python\\python313\\lib\\site-packages (from pandas>=1.2->seaborn) (2025.1)\n",
      "Requirement already satisfied: tzdata>=2022.7 in c:\\users\\andre\\appdata\\local\\programs\\python\\python313\\lib\\site-packages (from pandas>=1.2->seaborn) (2025.1)\n",
      "Requirement already satisfied: six>=1.5 in c:\\users\\andre\\appdata\\roaming\\python\\python313\\site-packages (from python-dateutil>=2.7->matplotlib!=3.6.1,>=3.4->seaborn) (1.17.0)\n",
      "Downloading seaborn-0.13.2-py3-none-any.whl (294 kB)\n",
      "Installing collected packages: seaborn\n",
      "Successfully installed seaborn-0.13.2\n"
     ]
    },
    {
     "name": "stderr",
     "output_type": "stream",
     "text": [
      "\n",
      "[notice] A new release of pip is available: 24.3.1 -> 25.0.1\n",
      "[notice] To update, run: python.exe -m pip install --upgrade pip\n"
     ]
    }
   ],
   "source": [
    "!pip install pandas\n",
    "!pip install streamlit\n",
    "!pip install matplotlib\n",
    "!pip install seaborn"
   ]
  },
  {
   "cell_type": "markdown",
   "metadata": {},
   "source": [
    "Оскільки streamlit не підтримує формат ipynb, то тут буде показано лише повний код та його запуск у браузері"
   ]
  },
  {
   "cell_type": "markdown",
   "metadata": {},
   "source": [
    "1. Створіть dropdown список, який дозволить обрати часовий ряд VCI, TCI, VHI для\n",
    "набору даних із лабораторної роботи 2;"
   ]
  },
  {
   "cell_type": "markdown",
   "metadata": {},
   "source": [
    "2. Створіть dropdown список, який дозволить вибрати область, для якої буде виконуватись аналіз;"
   ]
  },
  {
   "cell_type": "markdown",
   "metadata": {},
   "source": [
    "3. Створіть slider, який дозволить зазначити інтервал тижнів, за які відбираються дані;"
   ]
  },
  {
   "cell_type": "markdown",
   "metadata": {},
   "source": [
    "4. Створіть slider, який дозволить зазначити інтервал років, за які відбираються дані;\n"
   ]
  },
  {
   "cell_type": "markdown",
   "metadata": {},
   "source": [
    "5. Створіть button для скидання всіх фільтрів і повернення до початкового стану даних\n",
    "(відповідно інтерактивні елементи повинні мати початкові значення);"
   ]
  },
  {
   "cell_type": "markdown",
   "metadata": {},
   "source": [
    "6. Створіть три вкладки для відображення таблиці з відфільтрованими даними,\n",
    "відповідного до неї графіка та графіка порівняння даних по областях."
   ]
  },
  {
   "cell_type": "markdown",
   "metadata": {},
   "source": [
    "7. Перший графік повинен відображати відфільтровані дані (часові ряди за діапазон\n",
    "років, що обмежені інтервалом тижнів). Другий графік має відображати порівняння\n",
    "значень VCI, TCI або VHI (залежно від обраної опції у списку dropdown) для обраної\n",
    "області з усіма іншими областями за вказаний часовий інтервал. Продумайте\n",
    "вигляд цих графіків."
   ]
  },
  {
   "cell_type": "markdown",
   "metadata": {},
   "source": [
    "8. Створіть два checkbox для сортування даних за зростанням та спаданням значень\n",
    "VCI, TCI або VHI (залежно від обраної опції у списку dropdown). Продумайте реакцію\n",
    "програми, якщо увімкнені обидва чекбокси."
   ]
  },
  {
   "cell_type": "markdown",
   "metadata": {},
   "source": [
    "9. Інтерактивні елементи мають бути розміщений в одній колонці, а графіки з\n",
    "таблицею — в іншій."
   ]
  },
  {
   "cell_type": "markdown",
   "metadata": {},
   "source": [
    "Повний код"
   ]
  },
  {
   "cell_type": "code",
   "execution_count": null,
   "metadata": {},
   "outputs": [],
   "source": [
    "import streamlit as st\n",
    "import pandas as pd\n",
    "import seaborn as sns\n",
    "import matplotlib.pyplot as plt\n",
    "\n",
    "df = pd.read_csv(\"./NOAA_Main_UAIndex.csv\")\n",
    "df[\"year\"] = df[\"year\"].astype(int)\n",
    "df[\"week\"] = df[\"week\"].astype(int)\n",
    "\n",
    "def area_to_index(area):\n",
    "    if isinstance(area, str):\n",
    "        index = [k for k, v in area_names.items() if v == area]\n",
    "    elif isinstance(area, int):\n",
    "        index = [area]\n",
    "    return index[0]\n",
    "\n",
    "area_names = {\n",
    "    1: \"Вінницька\",\n",
    "    2: \"Волинська\",\n",
    "    3: \"Дніпропетровська\",\n",
    "    4: \"Донецька\",\n",
    "    5: \"Житомирська\",\n",
    "    6: \"Закарпатська\",\n",
    "    7: \"Запорізька\",\n",
    "    8: \"Івано-Франківська\",\n",
    "    9: \"Київська\",\n",
    "    10: \"Кіровоградська\",\n",
    "    11: \"Луганська\",\n",
    "    12: \"Львівська\",\n",
    "    13: \"Миколаївська\",\n",
    "    14: \"Одеська\",\n",
    "    15: \"Полтавська\",\n",
    "    16: \"Рівненська\",\n",
    "    17: \"Сумська\",\n",
    "    18: \"Тернопільська\",\n",
    "    19: \"Харківська\",\n",
    "    20: \"Херсонська\",\n",
    "    21: \"Хмельницька\",\n",
    "    22: \"Черкаська\",\n",
    "    23: \"Чернівецька\",\n",
    "    24: \"Чернігівська\",\n",
    "    25: \"Республіка Крим\",\n",
    "    26: \"Київ\",\n",
    "    27: \"Севастополь\"\n",
    "}\n",
    "\n",
    "col1, col2 = st.columns([1,3])\n",
    "\n",
    "indices = [\"VCI\", \"TCI\", \"VHI\"]\n",
    "\n",
    "\n",
    "def reset_filters():\n",
    "    st.session_state.selected_area = area_names[1]\n",
    "    st.session_state.selected_index = \"VCI\"\n",
    "    st.session_state.year_range = (df[\"year\"].min(), df[\"year\"].max())\n",
    "    st.session_state.week_range = (df[\"week\"].min(), df[\"week\"].max())\n",
    "    st.session_state[\"descending_order\"] = False\n",
    "    st.session_state[\"ascending_order\"] = False\n",
    "\n",
    "\n",
    "def update_checkbox():\n",
    "    if st.session_state[\"ascending_order\"] and st.session_state[\"descending_order\"]:\n",
    "        st.warning(\"Оберіть один напрямок сортування\")\n",
    "        st.session_state[\"descending_order\"] = False\n",
    "        st.session_state[\"ascending_order\"] = False\n",
    "\n",
    "if \"selected_area\" not in st.session_state:\n",
    "    reset_filters()\n",
    "\n",
    "with col1:\n",
    "    st.header(\"Фільтри\")\n",
    "    st.session_state.selected_index = st.selectbox(\"Оберіть індекс:\", indices)\n",
    "    st.session_state.selected_area = st.selectbox(\"Оберіть область:\", options=list(area_names.values()),\n",
    "    index=list(area_names.values()).index(st.session_state.selected_area))\n",
    "    st.session_state.week_range = st.slider(\"Діапазон тижнів:\", df[\"week\"].min(), df[\"week\"].max(), st.session_state.week_range, step=1)\n",
    "    st.session_state.year_range = st.slider(\"Діапазон років:\", df[\"year\"].min(), df[\"year\"].max(), st.session_state.year_range, step=1)\n",
    "\n",
    "    ascending_order = st.checkbox(\"Сортувати за зростанням\", value=st.session_state[\"ascending_order\"], key=\"ascending_order\", on_change=update_checkbox)\n",
    "    descending_order = st.checkbox(\"Сортувати за спаданням\", value=st.session_state[\"descending_order\"], key=\"descending_order\", on_change=update_checkbox)\n",
    "\n",
    "    st.button(\"Скинути фільтри\", on_click=reset_filters)\n",
    "\n",
    "\n",
    "filtered_df = df[\n",
    "    (df[\"area\"] == area_to_index(st.session_state.selected_area)) &\n",
    "    (df[\"year\"].between(*st.session_state.year_range)) &\n",
    "    (df[\"week\"].between(*st.session_state.week_range))\n",
    "]\n",
    "\n",
    "filtered_df_with_sort = filtered_df\n",
    "\n",
    "if st.session_state[\"ascending_order\"]:\n",
    "    filtered_df_with_sort = filtered_df.sort_values(by=st.session_state.selected_index, ascending=True)\n",
    "elif st.session_state[\"descending_order\"]:\n",
    "    filtered_df_with_sort = filtered_df.sort_values(by=st.session_state.selected_index, ascending=False)\n",
    "\n",
    "\n",
    "\n",
    "with col2:\n",
    "    tab1, tab2, tab3 = st.tabs([\"Таблиця\", \"Графік\", \"Порівняння\"])\n",
    "    with tab1:\n",
    "        st.dataframe(filtered_df_with_sort)\n",
    "    with tab2:\n",
    "        plt.figure(figsize=(8, 5))\n",
    "        sns.lineplot(data=filtered_df, x=\"week\", y=st.session_state.selected_index, hue=\"year\", legend='full')\n",
    "        \n",
    "        plt.title(f\"Часовий ряд {st.session_state.selected_index} для {st.session_state.selected_area}\")\n",
    "        plt.xlabel(\"Тиждень\")\n",
    "        plt.ylabel(st.session_state.selected_index)\n",
    "        plt.legend(loc=\"upper left\", bbox_to_anchor=(1, 1))\n",
    "        st.pyplot(plt)\n",
    "        plt.clf()\n",
    "\n",
    "    with tab3:\n",
    "        compare_df = df[\n",
    "            (df[\"year\"].between(*st.session_state.year_range)) & \n",
    "            (df[\"week\"].between(*st.session_state.week_range))\n",
    "        ]\n",
    "        compare_df = compare_df.sort_values(by=\"area\")\n",
    "        compare_df[\"area\"].replace(area_names, inplace = True)\n",
    "        \n",
    "        colors = [\"gray\" if area != st.session_state.selected_area else \"red\" for area in compare_df[\"area\"].unique()]\n",
    "\n",
    "        plt.figure(figsize=(8, 5))\n",
    "        sns.barplot(data=compare_df, x=\"area\", y=st.session_state.selected_index, palette=colors)\n",
    "\n",
    "        plt.title(f\"Порівняння середнього показника {st.session_state.selected_index} між областями\")\n",
    "        plt.ylabel(st.session_state.selected_index)\n",
    "        plt.xlabel(\"Область\")\n",
    "        plt.xticks(rotation=45, ha=\"right\")\n",
    "        st.pyplot(plt)\n",
    "        plt.clf()\n"
   ]
  },
  {
   "cell_type": "markdown",
   "metadata": {},
   "source": [
    "Запуск у веб-браузері(повний код з файлу Lab3full.py)"
   ]
  },
  {
   "cell_type": "code",
   "execution_count": 1,
   "metadata": {},
   "outputs": [
    {
     "name": "stdout",
     "output_type": "stream",
     "text": [
      "^C\n"
     ]
    }
   ],
   "source": [
    "!streamlit run Lab3full.py"
   ]
  }
 ],
 "metadata": {
  "kernelspec": {
   "display_name": "Python 3",
   "language": "python",
   "name": "python3"
  },
  "language_info": {
   "codemirror_mode": {
    "name": "ipython",
    "version": 3
   },
   "file_extension": ".py",
   "mimetype": "text/x-python",
   "name": "python",
   "nbconvert_exporter": "python",
   "pygments_lexer": "ipython3",
   "version": "3.13.2"
  }
 },
 "nbformat": 4,
 "nbformat_minor": 2
}
